{
 "cells": [
  {
   "cell_type": "markdown",
   "metadata": {},
   "source": [
    "# Important Math Functions in Artificial Intelligence/Machine Learning/Deep Learning\n",
    "\n",
    "There are a lot of functions that keep re-appearing in different literature, as a beginner it might not be clear why these functions are so useful."
   ]
  },
  {
   "cell_type": "markdown",
   "metadata": {},
   "source": [
    "## Metric Spaces and Inner Products"
   ]
  },
  {
   "cell_type": "markdown",
   "metadata": {},
   "source": [
    "## Softmax\n",
    "In essence, the softmax function converts a vector of dimension $k$ into a probability distribution of $k$ possible outcomes. It is the multivariate form of the logistic function.\n",
    "\n",
    "It is defined as \n",
    "$$ \\sigma(\\mathbf{z})_i = \\frac{e^{z_i}}{\\sum_{j=1}^k{e^{z_j}}}$$\n",
    "\n",
    "where $1 \\geq i \\geq k$ and $\\mathbf{z} \\in \\mathbb{R}^k$."
   ]
  },
  {
   "cell_type": "code",
   "execution_count": null,
   "metadata": {},
   "outputs": [],
   "source": []
  }
 ],
 "metadata": {
  "language_info": {
   "name": "python"
  }
 },
 "nbformat": 4,
 "nbformat_minor": 2
}
